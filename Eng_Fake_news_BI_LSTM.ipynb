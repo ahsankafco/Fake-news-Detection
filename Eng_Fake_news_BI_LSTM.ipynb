{
 "cells": [
  {
   "cell_type": "code",
   "execution_count": 1,
   "id": "5c31579d-ef9c-48cf-94fb-896f07c05acf",
   "metadata": {},
   "outputs": [],
   "source": [
    "import numpy as np\n",
    "import pandas as pd\n",
    "import matplotlib.pyplot as plt\n",
    "import seaborn as sns\n",
    "import os"
   ]
  },
  {
   "cell_type": "code",
   "execution_count": 2,
   "id": "0e4d1d13-9b61-4c4d-89eb-ba7f862afae2",
   "metadata": {},
   "outputs": [
    {
     "data": {
      "text/html": [
       "<div>\n",
       "<style scoped>\n",
       "    .dataframe tbody tr th:only-of-type {\n",
       "        vertical-align: middle;\n",
       "    }\n",
       "\n",
       "    .dataframe tbody tr th {\n",
       "        vertical-align: top;\n",
       "    }\n",
       "\n",
       "    .dataframe thead th {\n",
       "        text-align: right;\n",
       "    }\n",
       "</style>\n",
       "<table border=\"1\" class=\"dataframe\">\n",
       "  <thead>\n",
       "    <tr style=\"text-align: right;\">\n",
       "      <th></th>\n",
       "      <th>Unnamed: 0.1</th>\n",
       "      <th>Unnamed: 0</th>\n",
       "      <th>title</th>\n",
       "      <th>text</th>\n",
       "      <th>label</th>\n",
       "      <th>num_words</th>\n",
       "    </tr>\n",
       "  </thead>\n",
       "  <tbody>\n",
       "    <tr>\n",
       "      <th>0</th>\n",
       "      <td>0</td>\n",
       "      <td>0</td>\n",
       "      <td>LAW ENFORCEMENT ON HIGH ALERT Following Threat...</td>\n",
       "      <td>comment expected barack obama members fyf fuky...</td>\n",
       "      <td>1</td>\n",
       "      <td>871</td>\n",
       "    </tr>\n",
       "    <tr>\n",
       "      <th>1</th>\n",
       "      <td>2</td>\n",
       "      <td>2</td>\n",
       "      <td>UNBELIEVABLE! OBAMA’S ATTORNEY GENERAL SAYS MO...</td>\n",
       "      <td>, demonstrators gathered last night exercising...</td>\n",
       "      <td>1</td>\n",
       "      <td>34</td>\n",
       "    </tr>\n",
       "    <tr>\n",
       "      <th>2</th>\n",
       "      <td>3</td>\n",
       "      <td>3</td>\n",
       "      <td>Bobby Jindal, raised Hindu, uses story of Chri...</td>\n",
       "      <td>dozen politically active pastors came private ...</td>\n",
       "      <td>0</td>\n",
       "      <td>1321</td>\n",
       "    </tr>\n",
       "    <tr>\n",
       "      <th>3</th>\n",
       "      <td>4</td>\n",
       "      <td>4</td>\n",
       "      <td>SATAN 2: Russia unvelis an image of its terrif...</td>\n",
       "      <td>rs sarmat missile , dubbed satan , replace ss ...</td>\n",
       "      <td>1</td>\n",
       "      <td>329</td>\n",
       "    </tr>\n",
       "    <tr>\n",
       "      <th>4</th>\n",
       "      <td>5</td>\n",
       "      <td>5</td>\n",
       "      <td>About Time! Christian Group Sues Amazon and SP...</td>\n",
       "      <td>say one time someone sued southern poverty law...</td>\n",
       "      <td>1</td>\n",
       "      <td>244</td>\n",
       "    </tr>\n",
       "  </tbody>\n",
       "</table>\n",
       "</div>"
      ],
      "text/plain": [
       "   Unnamed: 0.1  Unnamed: 0  \\\n",
       "0             0           0   \n",
       "1             2           2   \n",
       "2             3           3   \n",
       "3             4           4   \n",
       "4             5           5   \n",
       "\n",
       "                                               title  \\\n",
       "0  LAW ENFORCEMENT ON HIGH ALERT Following Threat...   \n",
       "1  UNBELIEVABLE! OBAMA’S ATTORNEY GENERAL SAYS MO...   \n",
       "2  Bobby Jindal, raised Hindu, uses story of Chri...   \n",
       "3  SATAN 2: Russia unvelis an image of its terrif...   \n",
       "4  About Time! Christian Group Sues Amazon and SP...   \n",
       "\n",
       "                                                text  label  num_words  \n",
       "0  comment expected barack obama members fyf fuky...      1        871  \n",
       "1  , demonstrators gathered last night exercising...      1         34  \n",
       "2  dozen politically active pastors came private ...      0       1321  \n",
       "3  rs sarmat missile , dubbed satan , replace ss ...      1        329  \n",
       "4  say one time someone sued southern poverty law...      1        244  "
      ]
     },
     "execution_count": 2,
     "metadata": {},
     "output_type": "execute_result"
    }
   ],
   "source": [
    "df = pd.read_csv(r\"C:\\Users\\19366\\Downloads\\output.csv\");\n",
    "df.shape\n",
    "\n",
    "df = df.dropna();\n",
    "df.head()"
   ]
  },
  {
   "cell_type": "code",
   "execution_count": 3,
   "id": "c407f85b-4d7c-41c9-86b1-8755d5dc0f7b",
   "metadata": {
    "scrolled": true
   },
   "outputs": [
    {
     "data": {
      "text/plain": [
       "Text(0.5, 1.0, 'Distribution of Fake - 0 /Real - 1 News')"
      ]
     },
     "execution_count": 3,
     "metadata": {},
     "output_type": "execute_result"
    },
    {
     "data": {
      "image/png": "[encoded data removed]",
      "text/plain": [
       "<Figure size 1000x600 with 1 Axes>"
      ]
     },
     "metadata": {},
     "output_type": "display_data"
    }
   ],
   "source": [
    "df['num_words'] = df['text'].apply(lambda x: len(x.split()))\n",
    "plt.figure(figsize = (10,6))\n",
    "sns.countplot(x = df['label'], palette = 'Set1', alpha = 0.8)\n",
    "plt.title('Distribution of Fake - 0 /Real - 1 News')"
   ]
  },
  {
   "cell_type": "code",
   "execution_count": 4,
   "id": "9a541563",
   "metadata": {},
   "outputs": [
    {
     "name": "stderr",
     "output_type": "stream",
     "text": [
      "[nltk_data] Downloading package stopwords to\n",
      "[nltk_data]     C:\\Users\\19366\\AppData\\Roaming\\nltk_data...\n",
      "[nltk_data]   Package stopwords is already up-to-date!\n"
     ]
    }
   ],
   "source": [
    "import re\n",
    "import string\n",
    "import nltk\n",
    "from nltk.corpus import stopwords\n",
    "from bs4 import BeautifulSoup\n",
    "\n",
    "nltk.download('stopwords')\n",
    "\n",
    "def clean_text(text):\n",
    "    # Remove HTML tags\n",
    "    text = BeautifulSoup(text, \"html.parser\").get_text()\n",
    "\n",
    "    # Remove non-text data\n",
    "    text = re.sub(r'\\S*@\\S*\\s?', '', text)  # remove email addresses\n",
    "    text = re.sub(r'http\\S+', '', text)    # remove URLs\n",
    "    text = re.sub(r'\\d+', '', text)        # remove numbers\n",
    "\n",
    "    # Remove special characters and punctuation\n",
    "    text = re.sub(r'[^\\w\\s\\$\\%\\&\\*\\@\\-\\+\\=\\[\\]\\{\\}\\:\\;\\|\\\\\\\\\\<\\>\\?\\!\\#\\~\\(\\)\\.\\,\\^\\/\\´\\`\\¨\\ª\\º\\€\\$\\£\\¥\\¢\\₹]', '', text)\n",
    "    text = re.sub(r'_', ' ', text)\n",
    "\n",
    "    # Convert to lowercase\n",
    "    text = text.lower()\n",
    "\n",
    "    # Remove stop words\n",
    "    stop_words = set(stopwords.words('english'))\n",
    "    words = nltk.word_tokenize(text)\n",
    "    words = [w for w in words if not w in stop_words]\n",
    "    text = ' '.join(words)\n",
    "\n",
    "    return text\n"
   ]
  },
  {
   "cell_type": "code",
   "execution_count": 5,
   "id": "706cdb8f",
   "metadata": {
    "scrolled": false
   },
   "outputs": [],
   "source": [
    "df[\"text\"] = df[\"text\"].apply(clean_text)"
   ]
  },
  {
   "cell_type": "code",
   "execution_count": 8,
   "id": "15df9903",
   "metadata": {},
   "outputs": [],
   "source": [
    "# Import necessary libraries\n",
    "import pandas as pd\n",
    "from keras.preprocessing.text import Tokenizer\n",
    "from keras_preprocessing.sequence import pad_sequences\n",
    "from keras.models import Sequential\n",
    "from keras.layers import Embedding, LSTM, Dense, Dropout\n",
    "from sklearn.metrics import accuracy_score, confusion_matrix\n",
    "from sklearn.model_selection import train_test_split"
   ]
  },
  {
   "cell_type": "code",
   "execution_count": 9,
   "id": "74946e9c-4ceb-416e-b2d1-d52b3941464a",
   "metadata": {},
   "outputs": [],
   "source": [
    "\n",
    "\n",
    "\n",
    "\n",
    "# Split data into training and testing sets\n",
    "x_train, x_test, y_train, y_test = train_test_split(df['text'], df['label'], test_size=0.2, random_state=10)\n",
    "\n",
    "\n",
    "\n"
   ]
  },
  {
   "cell_type": "code",
   "execution_count": 12,
   "id": "b7097aa2",
   "metadata": {},
   "outputs": [],
   "source": [
    "from sklearn.model_selection import KFold"
   ]
  },
  {
   "cell_type": "code",
   "execution_count": 14,
   "id": "1a812105",
   "metadata": {},
   "outputs": [],
   "source": [
    "k = 5\n",
    "kf = KFold(n_splits=k, shuffle=True, random_state=42)\n",
    "acc_scores = []\n",
    "loss_scores = []\n"
   ]
  },
  {
   "cell_type": "code",
   "execution_count": 15,
   "id": "d151569b-fc1b-477f-9a6f-f905d0b4c7af",
   "metadata": {},
   "outputs": [
    {
     "ename": "NameError",
     "evalue": "name 'create_model' is not defined",
     "output_type": "error",
     "traceback": [
      "\u001b[1;31m---------------------------------------------------------------------------\u001b[0m",
      "\u001b[1;31mNameError\u001b[0m                                 Traceback (most recent call last)",
      "Cell \u001b[1;32mIn[15], line 18\u001b[0m\n\u001b[0;32m     15\u001b[0m x_test \u001b[38;5;241m=\u001b[39m pad_sequences(x_test, padding\u001b[38;5;241m=\u001b[39m\u001b[38;5;124m'\u001b[39m\u001b[38;5;124mpost\u001b[39m\u001b[38;5;124m'\u001b[39m, maxlen\u001b[38;5;241m=\u001b[39mmaxlen)\n\u001b[0;32m     17\u001b[0m \u001b[38;5;66;03m# Create the model\u001b[39;00m\n\u001b[1;32m---> 18\u001b[0m model \u001b[38;5;241m=\u001b[39m \u001b[43mcreate_model\u001b[49m()\n\u001b[0;32m     20\u001b[0m \u001b[38;5;66;03m# Train the model\u001b[39;00m\n\u001b[0;32m     21\u001b[0m model\u001b[38;5;241m.\u001b[39mfit(x_train, y_train, epochs\u001b[38;5;241m=\u001b[39m\u001b[38;5;241m5\u001b[39m, batch_size\u001b[38;5;241m=\u001b[39m\u001b[38;5;241m32\u001b[39m, verbose\u001b[38;5;241m=\u001b[39m\u001b[38;5;241m1\u001b[39m,validation_split\u001b[38;5;241m=\u001b[39m\u001b[38;5;241m0.1\u001b[39m)\n",
      "\u001b[1;31mNameError\u001b[0m: name 'create_model' is not defined"
     ]
    }
   ],
   "source": [
    "for train_index, test_index in kf.split(df):\n",
    "    # Split data into training and testing sets\n",
    "    x_train, x_test = df.iloc[train_index]['text'], df.iloc[test_index]['text']\n",
    "    y_train, y_test = df.iloc[train_index]['label'], df.iloc[test_index]['label']\n",
    "\n",
    "    # Tokenize text data\n",
    "    tokenizer = Tokenizer(num_words=7000)\n",
    "    tokenizer.fit_on_texts(x_train)\n",
    "    x_train = tokenizer.texts_to_sequences(x_train)\n",
    "    x_test = tokenizer.texts_to_sequences(x_test)\n",
    "\n",
    "    # Pad sequences\n",
    "    maxlen = 500\n",
    "    x_train = pad_sequences(x_train, padding='post', maxlen=maxlen)\n",
    "    x_test = pad_sequences(x_test, padding='post', maxlen=maxlen)\n",
    "\n",
    "    # Create the model\n",
    "    model = create_model()\n",
    "\n",
    "    # Train the model\n",
    "    model.fit(x_train, y_train, epochs=5, batch_size=32, verbose=1,validation_split=0.1)\n",
    "\n",
    "    # Evaluate the model\n",
    "    loss, acc = model.evaluate(x_test, y_test, verbose=1)\n",
    "    print(f'Evaluate Accuracy: {acc}, Loss: {loss}')\n",
    "\n",
    "    # Append evaluation metrics to list\n",
    "    acc_scores.append(acc)\n",
    "    loss_scores.append(loss)\n",
    "    #conf_mat = confusion_matrix(y_test, y_pred)\n",
    "    #print(f'preddicted Accuracy: {preacc}')\n",
    "    #print(f'Confusion Matrix:\\n{conf_mat}\\n')\n",
    "\n",
    "# Calculate and print average evaluation metrics\n",
    "avg_acc = sum(acc_scores)/len(acc_scores)\n",
    "avg_loss = sum(loss_scores)/len(loss_scores)\n",
    "print(f'Average accuracy: {avg_acc}, Average loss: {avg_loss}')"
   ]
  },
  {
   "cell_type": "code",
   "execution_count": 16,
   "id": "bb58ce3b-24b0-4e56-9901-f43116886aac",
   "metadata": {},
   "outputs": [],
   "source": [
    "import tensorflow as tf\n",
    "from tensorflow.keras.preprocessing.text import one_hot\n",
    "from tensorflow.keras.layers import Embedding\n",
    "from tensorflow.keras.preprocessing.sequence import pad_sequences\n",
    "from tensorflow.keras.models import Sequential\n",
    "from tensorflow.keras.layers import LSTM,Dense,Bidirectional,Embedding,Dropout\n",
    "from tensorflow.compat.v1.keras.layers import CuDNNLSTM,CuDNNGRU\n",
    "from tensorflow.keras.layers import Dropout\n",
    "from tensorflow.keras import activations"
   ]
  },
  {
   "cell_type": "code",
   "execution_count": 17,
   "id": "a602ef89-7caa-4076-aec5-b333bd5b8358",
   "metadata": {},
   "outputs": [],
   "source": [
    "import pandas as pd\n",
    "import numpy as np\n",
    "import matplotlib as plt\n",
    "import seaborn as sns\n",
    "\n",
    "import tensorflow as tf\n",
    "\n",
    "import keras\n",
    "\n",
    "from keras.preprocessing.text import Tokenizer\n",
    "from keras_preprocessing.sequence import pad_sequences\n",
    "from keras.models import Model, Sequential\n",
    "from keras.layers import GRU, Input, Dense, Activation, RepeatVector, Bidirectional, LSTM, Dropout, Embedding\n",
    "from tensorflow.keras.layers import Embedding\n",
    "from sklearn.model_selection import train_test_split \n",
    "from keras.losses import sparse_categorical_crossentropy\n",
    "from keras.preprocessing.text import Tokenizer\n",
    "from keras.preprocessing import sequence\n",
    "from keras.callbacks import EarlyStopping\n",
    "\n",
    "from sklearn.model_selection import train_test_split\n",
    "from sklearn.metrics import confusion_matrix, classification_report\n",
    "import collections\n",
    "\n",
    "from tensorflow.python.client import device_lib\n",
    "import matplotlib.pyplot as plt\n",
    "import seaborn as sns\n"
   ]
  },
  {
   "cell_type": "code",
   "execution_count": 19,
   "id": "10ca8274-a2d7-403e-99fb-5f38f9022e45",
   "metadata": {},
   "outputs": [
    {
     "ename": "NameError",
     "evalue": "name 'tok' is not defined",
     "output_type": "error",
     "traceback": [
      "\u001b[1;31m---------------------------------------------------------------------------\u001b[0m",
      "\u001b[1;31mNameError\u001b[0m                                 Traceback (most recent call last)",
      "Cell \u001b[1;32mIn[19], line 4\u001b[0m\n\u001b[0;32m      1\u001b[0m \u001b[38;5;66;03m#define the model\u001b[39;00m\n\u001b[0;32m      2\u001b[0m model \u001b[38;5;241m=\u001b[39m tf\u001b[38;5;241m.\u001b[39mkeras\u001b[38;5;241m.\u001b[39mSequential([\n\u001b[0;32m      3\u001b[0m     Input(name\u001b[38;5;241m=\u001b[39m\u001b[38;5;124m'\u001b[39m\u001b[38;5;124minputs\u001b[39m\u001b[38;5;124m'\u001b[39m,shape\u001b[38;5;241m=\u001b[39m[maxlen]),\n\u001b[1;32m----> 4\u001b[0m     Embedding(\u001b[38;5;28mlen\u001b[39m(\u001b[43mtok\u001b[49m\u001b[38;5;241m.\u001b[39mword_index), \u001b[38;5;241m128\u001b[39m),\n\u001b[0;32m      5\u001b[0m     Dropout(\u001b[38;5;241m0.5\u001b[39m),\n\u001b[0;32m      6\u001b[0m     Bidirectional(tf\u001b[38;5;241m.\u001b[39mkeras\u001b[38;5;241m.\u001b[39mlayers\u001b[38;5;241m.\u001b[39mLSTM(\u001b[38;5;241m256\u001b[39m,  return_sequences\u001b[38;5;241m=\u001b[39m\u001b[38;5;28;01mTrue\u001b[39;00m)),\n\u001b[0;32m      7\u001b[0m     Dropout(\u001b[38;5;241m0.5\u001b[39m),\n\u001b[0;32m      8\u001b[0m     Bidirectional(tf\u001b[38;5;241m.\u001b[39mkeras\u001b[38;5;241m.\u001b[39mlayers\u001b[38;5;241m.\u001b[39mLSTM(\u001b[38;5;241m128\u001b[39m,  return_sequences\u001b[38;5;241m=\u001b[39m\u001b[38;5;28;01mTrue\u001b[39;00m)),\n\u001b[0;32m      9\u001b[0m     Dropout(\u001b[38;5;241m0.5\u001b[39m),\n\u001b[0;32m     10\u001b[0m     Bidirectional(tf\u001b[38;5;241m.\u001b[39mkeras\u001b[38;5;241m.\u001b[39mlayers\u001b[38;5;241m.\u001b[39mLSTM(\u001b[38;5;241m64\u001b[39m)),\n\u001b[0;32m     11\u001b[0m     Dense(\u001b[38;5;241m64\u001b[39m, activation\u001b[38;5;241m=\u001b[39m\u001b[38;5;124m'\u001b[39m\u001b[38;5;124mrelu\u001b[39m\u001b[38;5;124m'\u001b[39m),\n\u001b[0;32m     12\u001b[0m     Dropout(\u001b[38;5;241m0.5\u001b[39m),\n\u001b[0;32m     13\u001b[0m     Dense(\u001b[38;5;241m1\u001b[39m, activation\u001b[38;5;241m=\u001b[39m\u001b[38;5;124m'\u001b[39m\u001b[38;5;124msigmoid\u001b[39m\u001b[38;5;124m'\u001b[39m)\n\u001b[0;32m     14\u001b[0m ])\n",
      "\u001b[1;31mNameError\u001b[0m: name 'tok' is not defined"
     ]
    }
   ],
   "source": [
    "#define the model\n",
    "model = tf.keras.Sequential([\n",
    "    Input(name='inputs',shape=[maxlen]),\n",
    "    Embedding(len(tok.word_index), 128),\n",
    "    Dropout(0.5),\n",
    "    Bidirectional(tf.keras.layers.LSTM(256,  return_sequences=True)),\n",
    "    Dropout(0.5),\n",
    "    Bidirectional(tf.keras.layers.LSTM(128,  return_sequences=True)),\n",
    "    Dropout(0.5),\n",
    "    Bidirectional(tf.keras.layers.LSTM(64)),\n",
    "    Dense(64, activation='relu'),\n",
    "    Dropout(0.5),\n",
    "    Dense(1, activation='sigmoid')\n",
    "])\n",
    "\n"
   ]
  },
  {
   "cell_type": "code",
   "execution_count": 18,
   "id": "8ed54bef-362e-4150-ab23-bffbf26abace",
   "metadata": {},
   "outputs": [
    {
     "ename": "NameError",
     "evalue": "name 'model' is not defined",
     "output_type": "error",
     "traceback": [
      "\u001b[1;31m---------------------------------------------------------------------------\u001b[0m",
      "\u001b[1;31mNameError\u001b[0m                                 Traceback (most recent call last)",
      "Cell \u001b[1;32mIn[18], line 2\u001b[0m\n\u001b[0;32m      1\u001b[0m \u001b[38;5;66;03m#compile model\u001b[39;00m\n\u001b[1;32m----> 2\u001b[0m \u001b[43mmodel\u001b[49m\u001b[38;5;241m.\u001b[39mcompile(loss\u001b[38;5;241m=\u001b[39mtf\u001b[38;5;241m.\u001b[39mkeras\u001b[38;5;241m.\u001b[39mlosses\u001b[38;5;241m.\u001b[39mBinaryCrossentropy(),\n\u001b[0;32m      3\u001b[0m               optimizer\u001b[38;5;241m=\u001b[39mtf\u001b[38;5;241m.\u001b[39mkeras\u001b[38;5;241m.\u001b[39moptimizers\u001b[38;5;241m.\u001b[39mAdam(\u001b[38;5;241m1e-4\u001b[39m),\n\u001b[0;32m      4\u001b[0m               metrics\u001b[38;5;241m=\u001b[39m[\u001b[38;5;124m'\u001b[39m\u001b[38;5;124maccuracy\u001b[39m\u001b[38;5;124m'\u001b[39m])\n\u001b[0;32m      6\u001b[0m \u001b[38;5;66;03m#model summary\u001b[39;00m\n\u001b[0;32m      7\u001b[0m model\u001b[38;5;241m.\u001b[39msummary()\n",
      "\u001b[1;31mNameError\u001b[0m: name 'model' is not defined"
     ]
    }
   ],
   "source": [
    "#compile model\n",
    "model.compile(loss=tf.keras.losses.BinaryCrossentropy(),\n",
    "              optimizer=tf.keras.optimizers.Adam(1e-4),\n",
    "              metrics=['accuracy'])\n",
    "\n",
    "#model summary\n",
    "model.summary()"
   ]
  },
  {
   "cell_type": "code",
   "execution_count": 71,
   "id": "7b830606-c75a-4283-aa9f-1344b1d6da2e",
   "metadata": {},
   "outputs": [
    {
     "name": "stdout",
     "output_type": "stream",
     "text": [
      "You must install pydot (`pip install pydot`) and install graphviz (see instructions at https://graphviz.gitlab.io/download/) for plot_model to work.\n"
     ]
    }
   ],
   "source": [
    "tf.keras.utils.plot_model(model)"
   ]
  },
  {
   "cell_type": "code",
   "execution_count": 14,
   "id": "1ff365bf-4ed2-46b8-853c-c1f802e98db8",
   "metadata": {},
   "outputs": [
    {
     "name": "stdout",
     "output_type": "stream",
     "text": [
      "Epoch 1/20\n",
      "708/708 [==============================] - 205s 276ms/step - loss: 0.3311 - accuracy: 0.8506 - val_loss: 0.1616 - val_accuracy: 0.9451\n",
      "Epoch 2/20\n",
      "708/708 [==============================] - 194s 274ms/step - loss: 0.1175 - accuracy: 0.9610 - val_loss: 0.1026 - val_accuracy: 0.9605\n",
      "Epoch 3/20\n",
      "708/708 [==============================] - 189s 267ms/step - loss: 0.0613 - accuracy: 0.9808 - val_loss: 0.1068 - val_accuracy: 0.9683\n",
      "Epoch 4/20\n",
      "708/708 [==============================] - 192s 272ms/step - loss: 0.0401 - accuracy: 0.9876 - val_loss: 0.1136 - val_accuracy: 0.9646\n",
      "Epoch 5/20\n",
      "708/708 [==============================] - 194s 275ms/step - loss: 0.0234 - accuracy: 0.9936 - val_loss: 0.1154 - val_accuracy: 0.9656\n",
      "Epoch 6/20\n",
      "708/708 [==============================] - 192s 271ms/step - loss: 0.0181 - accuracy: 0.9948 - val_loss: 0.1385 - val_accuracy: 0.9687\n",
      "Epoch 7/20\n",
      "708/708 [==============================] - 189s 267ms/step - loss: 0.0170 - accuracy: 0.9950 - val_loss: 0.1306 - val_accuracy: 0.9704\n",
      "Epoch 8/20\n",
      "708/708 [==============================] - 188s 266ms/step - loss: 0.0124 - accuracy: 0.9963 - val_loss: 0.1248 - val_accuracy: 0.9711\n",
      "Epoch 9/20\n",
      "708/708 [==============================] - 189s 267ms/step - loss: 0.0112 - accuracy: 0.9966 - val_loss: 0.1507 - val_accuracy: 0.9690\n",
      "Epoch 10/20\n",
      "708/708 [==============================] - 189s 267ms/step - loss: 0.0101 - accuracy: 0.9970 - val_loss: 0.1994 - val_accuracy: 0.9699\n",
      "Epoch 11/20\n",
      "708/708 [==============================] - 190s 269ms/step - loss: 0.0072 - accuracy: 0.9981 - val_loss: 0.1434 - val_accuracy: 0.9664\n"
     ]
    }
   ],
   "source": [
    "history = model.fit(x_train, y_train, epochs=20,\n",
    "                    validation_split = 0.2, batch_size = 64, callbacks=[EarlyStopping(monitor='val_accuracy',mode='max', patience=3, verbose=False,restore_best_weights=True)])"
   ]
  },
  {
   "cell_type": "code",
   "execution_count": 15,
   "id": "486407f8-c28c-4483-9ae5-30695eb4477b",
   "metadata": {},
   "outputs": [
    {
     "data": {
      "image/png": "[encoded data removed]",
      "text/plain": [
       "<Figure size 1500x1000 with 2 Axes>"
      ]
     },
     "metadata": {},
     "output_type": "display_data"
    }
   ],
   "source": [
    "epochs=11\n",
    "\n",
    "fig, (ax1, ax2) = plt.subplots(2, 1, figsize=(15,10))\n",
    "ax1.plot(history.history['loss'], color='b', label=\"Training loss\")\n",
    "ax1.plot(history.history['val_loss'], color='r', label=\"validation loss\")\n",
    "ax1.set_xticks(np.arange(1, epochs, 10))\n",
    "ax1.set_yticks(np.arange(-0.2, 1, 0.1))\n",
    "ax1.legend()\n",
    "\n",
    "ax2.plot(history.history['accuracy'], color='b', label=\"Training accuracy\")\n",
    "ax2.plot(history.history['val_accuracy'], color='r',label=\"Validation accuracy\")\n",
    "ax2.set_xticks(np.arange(1, epochs, 10))\n",
    "ax2.legend()\n",
    "\n",
    "legend = plt.legend(loc='best', shadow=True)\n",
    "plt.tight_layout()\n",
    "plt.show()"
   ]
  },
  {
   "cell_type": "code",
   "execution_count": 16,
   "id": "28bd0309",
   "metadata": {},
   "outputs": [],
   "source": [
    "model.save_weights('E:\\Semester 3\\Soft\\model_Bi_LSTM_2_weights_Full_Final.h5')\n",
    "model.save('E:\\Semester 3\\Soft\\model_Bi_LSTM_2_architecture_Full_Final.h5')\n"
   ]
  },
  {
   "cell_type": "code",
   "execution_count": 23,
   "id": "337c8aca",
   "metadata": {},
   "outputs": [],
   "source": [
    "from tensorflow.keras.models import load_model\n",
    "\n",
    "model_path = r'E:\\Semester 3\\Soft\\model_Bi_LSTM_2_architecture_Final.h5'\n",
    "loaded_model = load_model(model_path)\n",
    "\n",
    "# Now you can use the loaded_model to make predictions or further train the model\n"
   ]
  },
  {
   "cell_type": "code",
   "execution_count": 18,
   "id": "7c9a1d5f-21f9-4857-bbb2-ab4d31fb86cb",
   "metadata": {},
   "outputs": [
    {
     "name": "stdout",
     "output_type": "stream",
     "text": [
      "443/443 [==============================] - 38s 86ms/step - loss: 0.1190 - accuracy: 0.9716\n",
      "443/443 [==============================] - 39s 85ms/step\n",
      "Test Loss: 0.11898034811019897\n",
      "Test Accuracy: 0.9716081619262695\n"
     ]
    }
   ],
   "source": [
    "test_loss, test_acc = model.evaluate(x_test, y_test)\n",
    "y_hat = model.predict(x_test)\n",
    "\n",
    "print('Test Loss:', test_loss)\n",
    "print('Test Accuracy:', test_acc)"
   ]
  },
  {
   "cell_type": "code",
   "execution_count": 44,
   "id": "ea9dea9f",
   "metadata": {},
   "outputs": [
    {
     "name": "stdout",
     "output_type": "stream",
     "text": [
      "[[9.9678600e-01]\n",
      " [5.0872801e-05]\n",
      " [1.2011895e-04]\n",
      " ...\n",
      " [9.8143148e-01]\n",
      " [9.9989629e-01]\n",
      " [9.9993300e-01]]\n"
     ]
    }
   ],
   "source": [
    "print(y_hat)"
   ]
  },
  {
   "cell_type": "code",
   "execution_count": 36,
   "id": "10b1855f-3d10-41ba-bfdc-12bd9f8318de",
   "metadata": {},
   "outputs": [],
   "source": [
    "y_pred_classes = np.where(y_hat >= 0.5, 1, 0)"
   ]
  },
  {
   "cell_type": "code",
   "execution_count": 43,
   "id": "6434ae38",
   "metadata": {},
   "outputs": [
    {
     "name": "stdout",
     "output_type": "stream",
     "text": [
      "[[1]\n",
      " [0]\n",
      " [0]\n",
      " ...\n",
      " [1]\n",
      " [1]\n",
      " [1]]\n"
     ]
    }
   ],
   "source": [
    "print(y_pred_classes)"
   ]
  },
  {
   "cell_type": "code",
   "execution_count": 37,
   "id": "1b03496e-38f0-42ab-9174-fa3aa51affc8",
   "metadata": {},
   "outputs": [
    {
     "name": "stdout",
     "output_type": "stream",
     "text": [
      "Accuracy Score:  0.9716081644183912\n",
      "Confusion Matrix: \n",
      " [[6797  234]\n",
      " [ 168 6960]]\n"
     ]
    }
   ],
   "source": [
    "from sklearn.metrics import accuracy_score, confusion_matrix\n",
    "# Calculate accuracy score and confusion matrix\n",
    "acc_score = accuracy_score(y_test, y_pred_classes)\n",
    "cm = confusion_matrix(y_test, y_pred_classes)\n",
    "\n",
    "print('Accuracy Score: ', acc_score)\n",
    "print('Confusion Matrix: \\n', cm)"
   ]
  },
  {
   "cell_type": "code",
   "execution_count": 46,
   "id": "4fb68e2e-44cd-4afa-adb3-75938c9f2928",
   "metadata": {},
   "outputs": [
    {
     "name": "stdout",
     "output_type": "stream",
     "text": [
      "              precision    recall  f1-score   support\n",
      "\n",
      "           0       0.98      0.97      0.97      7031\n",
      "           1       0.97      0.98      0.97      7128\n",
      "\n",
      "    accuracy                           0.97     14159\n",
      "   macro avg       0.97      0.97      0.97     14159\n",
      "weighted avg       0.97      0.97      0.97     14159\n",
      "\n"
     ]
    }
   ],
   "source": [
    "# print classification report\n",
    "print(classification_report(y_test, np.where(y_hat >= 0.5, 1, 0)))"
   ]
  },
  {
   "cell_type": "code",
   "execution_count": 47,
   "id": "b5bead3d-1c43-4616-9905-9b05e620bf68",
   "metadata": {},
   "outputs": [
    {
     "data": {
      "text/plain": [
       "Text(70.72222222222221, 0.5, 'Real Labels')"
      ]
     },
     "execution_count": 47,
     "metadata": {},
     "output_type": "execute_result"
    },
    {
     "data": {
      "image/png": "[encoded data removed]",
      "text/plain": [
       "<Figure size 800x600 with 2 Axes>"
      ]
     },
     "metadata": {},
     "output_type": "display_data"
    }
   ],
   "source": [
    "#plot the confusion matrix\n",
    "plt.figure(figsize = (8,6))\n",
    "\n",
    "sns.heatmap(confusion_matrix(y_test, y_pred_classes), annot=True, \n",
    "            fmt='', cmap='Blues')\n",
    "\n",
    "plt.xlabel('Predicted Labels')\n",
    "plt.ylabel('Real Labels')"
   ]
  },
  {
   "cell_type": "code",
   "execution_count": 45,
   "id": "dbbc204a-8e4c-43fc-b35a-9aea44cd1907",
   "metadata": {},
   "outputs": [
    {
     "name": "stdout",
     "output_type": "stream",
     "text": [
      "1/1 [==============================] - 0s 170ms/step\n",
      "The news article 'Demonstrators gathered last night exercising constitutional protected right peaceful protest order raise issues create change.' is real.\n"
     ]
    }
   ],
   "source": [
    "# Define list of news articles to predict\n",
    "news_articles = [\n",
    "    \"Demonstrators gathered last night exercising constitutional protected right peaceful protest order raise issues create change.\"\n",
    "    \n",
    "]\n",
    "tok = Tokenizer()\n",
    "# Loop over news articles and make predictions\n",
    "for article in news_articles:\n",
    "    # Preprocess news article\n",
    "    processed_data=clean_text(article)\n",
    "    x_test_processed_article = tok.texts_to_sequences([processed_data])\n",
    "    x_test_processed_article_pad = pad_sequences(x_test_processed_article, padding='post', maxlen=maxlen)\n",
    "\n",
    "    # Use trained model to predict whether news article is fake or real\n",
    "    prediction = model.predict(x_test_processed_article_pad)\n",
    "    y_pred_one = np.where(prediction >= 0.5, 1, 0)\n",
    "\n",
    "    # Print prediction for current news article\n",
    "    if y_pred_one == 0:\n",
    "        print(f\"The news article '{article}' is fake.\")\n",
    "    else:\n",
    "        print(f\"The news article '{article}' is real.\")\n"
   ]
  },
  {
   "cell_type": "code",
   "execution_count": 60,
   "id": "4bc3451d-8413-4821-83f3-c7fabf093d27",
   "metadata": {},
   "outputs": [
    {
     "name": "stdout",
     "output_type": "stream",
     "text": [
      "1/1 [==============================] - 0s 191ms/step\n",
      "[[0]]\n",
      "The news article is fake.\n"
     ]
    }
   ],
   "source": [
    "from sklearn.feature_extraction.text import CountVectorizer\n",
    "import numpy as np\n",
    "\n",
    "# Example news article\n",
    "news_article = \"MEXICO CITY (Reuters) - Donald Trumpâ€™s combative style has buffeted Mexicoâ€™s president for months, but deeply unpopular Enrique Pena Nieto may end up thanking the new U.S. president for prompting offended Mexicans to rally behind their leader.  From billionaire business magnate Carlos Slim to political opponents, there has been a groundswell of support for Pena Nieto, who has cut a lonely figure in months of bruising encounters with Trump. Often referred to by his initials EPN, Pena Nieto is laboring under the worst approval ratings of any Mexican president in decades due to discontent over corruption, gang violence, sluggish growth and a jump in fuel prices.     Trumpâ€™s threats to scrap the NAFTA trade deal with Mexico and build a border wall have caused anger and left Mexicans feeling fearful for the future. His challenge to Pena Nieto on Thursday - saying he should skip a planned summit between the two leaders if Mexico wasnâ€™t willing to pay for the wall - was the final straw. Pena Nieto replied a couple of hours later that he had canceled his meeting with Trump, one of the presidentâ€™s biggest ever hits on Twitter, getting more â€œlikesâ€ than when he personally broke news of the capture of notorious drug lord Joaquin â€œEl Chapoâ€ Guzman in January of last year. â€œBravo EPN!,â€ cheered former President Vicente Fox, who had initially condemned Pena Nieto for inviting Trump to Mexico for talks last August, and who has waged a colorful and expletive-ridden campaign against the Republican on Twitter. Pena Nieto and Trump talked for about an hour by phone on Friday, pledging to work out their differences and agreeing not to speak about the wall in public for now. Meanwhile, calls for unity grew in Mexico, led by Slim, a normally media-shy 76-year-old who gave a 90-minute news conference in support of the government on Friday. â€œThis is the most surprising example of national unity Iâ€™ve seen in my life,â€ said Slim, who spent several years in the past decade as the worldâ€™s richest man. â€œWe have to back the president of Mexico so he can defend our national interests.â€ Senior opposition leaders also urged a common front. â€œItâ€™s time to show unity and our commitment to Mexico,â€ Alejandra Barrales, head of the center-left Party of the Democratic Revolution (PRD), said on Twitter. Pena Nietoâ€™s credibility has been battered by a widespread public perception that he has failed to battle corruption and indeed even encouraged it since a conflict-of-interest row embroiled him, his wife and a top minister in late 2014. Some opposition critics fear the government will try to use Trump as a screen to distract from its failings. However, two senior officials told Reuters they hoped Pena Nieto would seize the moment to act quickly and decisively to improve his image. Expressions of dismay at Trumpâ€™s behavior towards Mexico have almost become a national pastime, and talk of boycotts against U.S. companies is gathering steam on social media. Slim, when asked about boycotting at his news conference, said it wasnâ€™t a good idea to turn on U.S. companies, which are creating jobs in Mexico. Some foreign companies voiced support for Mexico too. â€œI feel Mexico is being subjected to terror at the moment,â€ said Andreas Schindler, co-owner of German fruit wholesaler Don Limonâ€™s parent Pilz Schindler, by phone from Hamburg. â€œWeâ€™re right behind Mexico.â€ \"\n",
    "tok = Tokenizer()\n",
    "# Preprocess news article (assuming you have already preprocessed the training data in the same way)\n",
    "processed_article = clean_text(news_article)\n",
    "x_test_processed_article = tok.texts_to_sequences([processed_article]) # Pass a list containing the processed article\n",
    "x_test_processed_article_pad = pad_sequences(x_test_processed_article, padding='post', maxlen=maxlen)\n",
    "\n",
    "# Use trained model to predict whether news article is fake or real\n",
    "prediction = model.predict(x_test_processed_article_pad)\n",
    "y_pred_one = np.where(prediction <= 0, 1, 0)\n",
    "\n",
    "print(y_pred_one)\n",
    "# Print prediction\n",
    "if y_pred_one == 0:\n",
    "    print(\"The news article is fake.\")\n",
    "else:\n",
    "    print(\"The news article is real.\")"
   ]
  },
  {
   "cell_type": "code",
   "execution_count": 61,
   "id": "b09018cf",
   "metadata": {},
   "outputs": [
    {
     "name": "stdout",
     "output_type": "stream",
     "text": [
      "Collecting bnltkNote: you may need to restart the kernel to use updated packages.\n",
      "\n",
      "  Downloading bnltk-0.7.6-py3-none-any.whl (11 kB)\n",
      "Requirement already satisfied: sklearn in c:\\users\\19366\\anaconda3\\envs\\tf\\lib\\site-packages (from bnltk) (0.0.post1)\n",
      "Requirement already satisfied: tensorflow in c:\\users\\19366\\anaconda3\\envs\\tf\\lib\\site-packages (from bnltk) (2.10.1)\n",
      "Requirement already satisfied: keras in c:\\users\\19366\\anaconda3\\envs\\tf\\lib\\site-packages (from bnltk) (2.10.0)\n",
      "Requirement already satisfied: requests in c:\\users\\19366\\anaconda3\\envs\\tf\\lib\\site-packages (from bnltk) (2.28.2)\n",
      "Requirement already satisfied: numpy in c:\\users\\19366\\anaconda3\\envs\\tf\\lib\\site-packages (from bnltk) (1.24.3)\n",
      "Requirement already satisfied: urllib3<1.27,>=1.21.1 in c:\\users\\19366\\anaconda3\\envs\\tf\\lib\\site-packages (from requests->bnltk) (1.26.15)\n",
      "Requirement already satisfied: charset-normalizer<4,>=2 in c:\\users\\19366\\anaconda3\\envs\\tf\\lib\\site-packages (from requests->bnltk) (3.1.0)\n",
      "Requirement already satisfied: idna<4,>=2.5 in c:\\users\\19366\\anaconda3\\envs\\tf\\lib\\site-packages (from requests->bnltk) (3.4)\n",
      "Requirement already satisfied: certifi>=2017.4.17 in c:\\users\\19366\\anaconda3\\envs\\tf\\lib\\site-packages (from requests->bnltk) (2022.12.7)\n",
      "Requirement already satisfied: tensorflow-io-gcs-filesystem>=0.23.1 in c:\\users\\19366\\anaconda3\\envs\\tf\\lib\\site-packages (from tensorflow->bnltk) (0.31.0)\n",
      "Requirement already satisfied: six>=1.12.0 in c:\\users\\19366\\anaconda3\\envs\\tf\\lib\\site-packages (from tensorflow->bnltk) (1.16.0)\n",
      "Requirement already satisfied: h5py>=2.9.0 in c:\\users\\19366\\anaconda3\\envs\\tf\\lib\\site-packages (from tensorflow->bnltk) (3.8.0)\n",
      "Requirement already satisfied: tensorflow-estimator<2.11,>=2.10.0 in c:\\users\\19366\\anaconda3\\envs\\tf\\lib\\site-packages (from tensorflow->bnltk) (2.10.0)\n",
      "Requirement already satisfied: flatbuffers>=2.0 in c:\\users\\19366\\anaconda3\\envs\\tf\\lib\\site-packages (from tensorflow->bnltk) (23.3.3)\n",
      "Requirement already satisfied: google-pasta>=0.1.1 in c:\\users\\19366\\anaconda3\\envs\\tf\\lib\\site-packages (from tensorflow->bnltk) (0.2.0)\n",
      "Requirement already satisfied: opt-einsum>=2.3.2 in c:\\users\\19366\\anaconda3\\envs\\tf\\lib\\site-packages (from tensorflow->bnltk) (3.3.0)\n",
      "Requirement already satisfied: packaging in c:\\users\\19366\\anaconda3\\envs\\tf\\lib\\site-packages (from tensorflow->bnltk) (23.0)\n",
      "Requirement already satisfied: termcolor>=1.1.0 in c:\\users\\19366\\anaconda3\\envs\\tf\\lib\\site-packages (from tensorflow->bnltk) (2.2.0)\n",
      "Requirement already satisfied: astunparse>=1.6.0 in c:\\users\\19366\\anaconda3\\envs\\tf\\lib\\site-packages (from tensorflow->bnltk) (1.6.3)\n",
      "Requirement already satisfied: grpcio<2.0,>=1.24.3 in c:\\users\\19366\\anaconda3\\envs\\tf\\lib\\site-packages (from tensorflow->bnltk) (1.51.3)\n",
      "Requirement already satisfied: libclang>=13.0.0 in c:\\users\\19366\\anaconda3\\envs\\tf\\lib\\site-packages (from tensorflow->bnltk) (16.0.0)\n",
      "Requirement already satisfied: keras-preprocessing>=1.1.1 in c:\\users\\19366\\anaconda3\\envs\\tf\\lib\\site-packages (from tensorflow->bnltk) (1.1.2)\n",
      "Requirement already satisfied: tensorboard<2.11,>=2.10 in c:\\users\\19366\\anaconda3\\envs\\tf\\lib\\site-packages (from tensorflow->bnltk) (2.10.1)\n",
      "Requirement already satisfied: setuptools in c:\\users\\19366\\anaconda3\\envs\\tf\\lib\\site-packages (from tensorflow->bnltk) (65.6.3)\n",
      "Requirement already satisfied: gast<=0.4.0,>=0.2.1 in c:\\users\\19366\\anaconda3\\envs\\tf\\lib\\site-packages (from tensorflow->bnltk) (0.4.0)\n",
      "Collecting protobuf<3.20,>=3.9.2\n",
      "  Using cached protobuf-3.19.6-cp39-cp39-win_amd64.whl (895 kB)\n",
      "Requirement already satisfied: wrapt>=1.11.0 in c:\\users\\19366\\anaconda3\\envs\\tf\\lib\\site-packages (from tensorflow->bnltk) (1.15.0)\n",
      "Requirement already satisfied: typing-extensions>=3.6.6 in c:\\users\\19366\\anaconda3\\envs\\tf\\lib\\site-packages (from tensorflow->bnltk) (4.5.0)\n",
      "Requirement already satisfied: absl-py>=1.0.0 in c:\\users\\19366\\anaconda3\\envs\\tf\\lib\\site-packages (from tensorflow->bnltk) (1.4.0)\n",
      "Requirement already satisfied: wheel<1.0,>=0.23.0 in c:\\users\\19366\\anaconda3\\envs\\tf\\lib\\site-packages (from astunparse>=1.6.0->tensorflow->bnltk) (0.38.4)\n",
      "Requirement already satisfied: markdown>=2.6.8 in c:\\users\\19366\\anaconda3\\envs\\tf\\lib\\site-packages (from tensorboard<2.11,>=2.10->tensorflow->bnltk) (3.4.3)\n",
      "Requirement already satisfied: tensorboard-plugin-wit>=1.6.0 in c:\\users\\19366\\anaconda3\\envs\\tf\\lib\\site-packages (from tensorboard<2.11,>=2.10->tensorflow->bnltk) (1.8.1)\n",
      "Requirement already satisfied: tensorboard-data-server<0.7.0,>=0.6.0 in c:\\users\\19366\\anaconda3\\envs\\tf\\lib\\site-packages (from tensorboard<2.11,>=2.10->tensorflow->bnltk) (0.6.1)\n",
      "Requirement already satisfied: google-auth<3,>=1.6.3 in c:\\users\\19366\\anaconda3\\envs\\tf\\lib\\site-packages (from tensorboard<2.11,>=2.10->tensorflow->bnltk) (2.16.3)\n",
      "Requirement already satisfied: werkzeug>=1.0.1 in c:\\users\\19366\\anaconda3\\envs\\tf\\lib\\site-packages (from tensorboard<2.11,>=2.10->tensorflow->bnltk) (2.3.1)\n",
      "Requirement already satisfied: google-auth-oauthlib<0.5,>=0.4.1 in c:\\users\\19366\\anaconda3\\envs\\tf\\lib\\site-packages (from tensorboard<2.11,>=2.10->tensorflow->bnltk) (0.4.6)\n",
      "Requirement already satisfied: cachetools<6.0,>=2.0.0 in c:\\users\\19366\\anaconda3\\envs\\tf\\lib\\site-packages (from google-auth<3,>=1.6.3->tensorboard<2.11,>=2.10->tensorflow->bnltk) (5.3.0)\n",
      "Requirement already satisfied: pyasn1-modules>=0.2.1 in c:\\users\\19366\\anaconda3\\envs\\tf\\lib\\site-packages (from google-auth<3,>=1.6.3->tensorboard<2.11,>=2.10->tensorflow->bnltk) (0.2.8)\n",
      "Requirement already satisfied: rsa<5,>=3.1.4 in c:\\users\\19366\\anaconda3\\envs\\tf\\lib\\site-packages (from google-auth<3,>=1.6.3->tensorboard<2.11,>=2.10->tensorflow->bnltk) (4.9)\n",
      "Requirement already satisfied: requests-oauthlib>=0.7.0 in c:\\users\\19366\\anaconda3\\envs\\tf\\lib\\site-packages (from google-auth-oauthlib<0.5,>=0.4.1->tensorboard<2.11,>=2.10->tensorflow->bnltk) (1.3.1)\n",
      "Requirement already satisfied: importlib-metadata>=4.4 in c:\\users\\19366\\anaconda3\\envs\\tf\\lib\\site-packages (from markdown>=2.6.8->tensorboard<2.11,>=2.10->tensorflow->bnltk) (6.1.0)\n",
      "Requirement already satisfied: MarkupSafe>=2.1.1 in c:\\users\\19366\\anaconda3\\envs\\tf\\lib\\site-packages (from werkzeug>=1.0.1->tensorboard<2.11,>=2.10->tensorflow->bnltk) (2.1.2)\n",
      "Requirement already satisfied: zipp>=0.5 in c:\\users\\19366\\anaconda3\\envs\\tf\\lib\\site-packages (from importlib-metadata>=4.4->markdown>=2.6.8->tensorboard<2.11,>=2.10->tensorflow->bnltk) (3.15.0)\n",
      "Requirement already satisfied: pyasn1<0.5.0,>=0.4.6 in c:\\users\\19366\\anaconda3\\envs\\tf\\lib\\site-packages (from pyasn1-modules>=0.2.1->google-auth<3,>=1.6.3->tensorboard<2.11,>=2.10->tensorflow->bnltk) (0.4.8)\n",
      "Requirement already satisfied: oauthlib>=3.0.0 in c:\\users\\19366\\anaconda3\\envs\\tf\\lib\\site-packages (from requests-oauthlib>=0.7.0->google-auth-oauthlib<0.5,>=0.4.1->tensorboard<2.11,>=2.10->tensorflow->bnltk) (3.2.2)\n",
      "Installing collected packages: protobuf, bnltk\n",
      "  Attempting uninstall: protobuf\n",
      "    Found existing installation: protobuf 3.20.3\n",
      "    Uninstalling protobuf-3.20.3:\n",
      "      Successfully uninstalled protobuf-3.20.3\n",
      "  Rolling back uninstall of protobuf\n",
      "  Moving to c:\\users\\19366\\anaconda3\\envs\\tf\\lib\\site-packages\\protobuf-3.20.3-py3.9.egg-info\n",
      "   from C:\\Users\\19366\\anaconda3\\envs\\tf\\Lib\\site-packages\\~rotobuf-3.20.3-py3.9.egg-info\n"
     ]
    },
    {
     "name": "stderr",
     "output_type": "stream",
     "text": [
      "ERROR: Could not install packages due to an OSError: [WinError 5] Access is denied: 'C:\\\\Users\\\\19366\\\\anaconda3\\\\envs\\\\tf\\\\Lib\\\\site-packages\\\\google\\\\protobuf\\\\internal\\\\_api_implementation.cp39-win_amd64.pyd'\n",
      "Consider using the `--user` option or check the permissions.\n",
      "\n"
     ]
    }
   ],
   "source": [
    "pip install bnltk"
   ]
  },
  {
   "cell_type": "code",
   "execution_count": null,
   "id": "02f0af54",
   "metadata": {},
   "outputs": [],
   "source": []
  }
 ],
 "metadata": {
  "kernelspec": {
   "display_name": "Python 3 (ipykernel)",
   "language": "python",
   "name": "python3"
  },
  "language_info": {
   "codemirror_mode": {
    "name": "ipython",
    "version": 3
   },
   "file_extension": ".py",
   "mimetype": "text/x-python",
   "name": "python",
   "nbconvert_exporter": "python",
   "pygments_lexer": "ipython3",
   "version": "3.10.9"
  }
 },
 "nbformat": 4,
 "nbformat_minor": 5
}
